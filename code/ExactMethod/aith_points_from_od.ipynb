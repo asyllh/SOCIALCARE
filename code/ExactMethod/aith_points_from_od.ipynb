{
 "cells": [
  {
   "cell_type": "code",
   "execution_count": null,
   "id": "1d6d03fa",
   "metadata": {},
   "outputs": [],
   "source": [
    "# Idea from: https://math.stackexchange.com/questions/156161/finding-the-coordinates-of-points-from-distance-matrix\n",
    "# Eigenvalue decomposition in Python: https://hadrienj.github.io/posts/Deep-Learning-Book-Series-2.7-Eigendecomposition/\n"
   ]
  },
  {
   "cell_type": "code",
   "execution_count": 2,
   "id": "b197125f",
   "metadata": {},
   "outputs": [],
   "source": [
    "import numpy as np\n",
    "import matplotlib.pyplot as plt"
   ]
  },
  {
   "cell_type": "code",
   "execution_count": 3,
   "id": "0bc1c930",
   "metadata": {},
   "outputs": [],
   "source": [
    "def get_od(points):\n",
    "    npts = np.max(points.shape)\n",
    "    od = np.zeros((npts, npts))\n",
    "    for i in range(npts):\n",
    "        for j in range(npts):\n",
    "            od[i,j] = np.linalg.norm(points[i,:] - points[j,:])\n",
    "    return od"
   ]
  },
  {
   "cell_type": "code",
   "execution_count": 4,
   "id": "e906b88b",
   "metadata": {},
   "outputs": [],
   "source": [
    "def get_M(D):\n",
    "    n,m = D.shape\n",
    "    M = np.zeros((n,m))\n",
    "    for i in range(n):\n",
    "        for j in range(m):\n",
    "            M[i,j] = (D[0,j]**2 + D[i,0]**2 - D[i,j]**2)/2\n",
    "    return M"
   ]
  },
  {
   "cell_type": "code",
   "execution_count": 5,
   "id": "c4e2f43e",
   "metadata": {},
   "outputs": [],
   "source": [
    "def coords_from_M(M):\n",
    "    lambd, U = np.linalg.eig(M) # Eigenvalue decomposition\n",
    "    S = np.round(np.diag(lambd),8)\n",
    "    # S = np.diag(lambd)\n",
    "    X = U.dot(np.sqrt(S))\n",
    "    return X"
   ]
  },
  {
   "cell_type": "code",
   "execution_count": 6,
   "id": "a32e7193",
   "metadata": {},
   "outputs": [],
   "source": [
    "def coords_from_od(od):\n",
    "    M = get_M(od)\n",
    "    return coords_from_M(M)"
   ]
  },
  {
   "cell_type": "code",
   "execution_count": 13,
   "id": "45339beb",
   "metadata": {},
   "outputs": [
    {
     "name": "stdout",
     "output_type": "stream",
     "text": [
      "[[ 0.00000000e+00  0.00000000e+00  0.00000000e+00             nan\n",
      "   0.00000000e+00             nan  0.00000000e+00  0.00000000e+00\n",
      "              nan  0.00000000e+00  0.00000000e+00  0.00000000e+00\n",
      "              nan             nan             nan  0.00000000e+00\n",
      "   0.00000000e+00             nan  0.00000000e+00  0.00000000e+00]\n",
      " [-2.05518226e+01 -1.07286093e+00 -4.02757546e+00             nan\n",
      "  -3.62318604e-01             nan  1.67089264e+00 -2.53375934e+00\n",
      "              nan  2.12926392e-01  1.03498603e+00  1.04781901e-01\n",
      "              nan             nan             nan -1.92622661e-01\n",
      "   8.71523589e-02             nan  0.00000000e+00  0.00000000e+00]\n",
      " [-5.01898609e+00 -1.74326716e+01 -4.25638829e-01             nan\n",
      "  -3.62872169e-01             nan -2.71037855e+00  3.15300280e-01\n",
      "              nan  1.03049126e-01  6.37980399e-01  2.12512442e-01\n",
      "              nan             nan             nan -2.42256645e-02\n",
      "   2.07788183e-02             nan  0.00000000e+00  0.00000000e+00]\n",
      " [-1.90906744e+01  6.89976995e-01 -5.74412534e+00             nan\n",
      "  -2.39875771e+00             nan -1.06697741e+00  6.41274241e-01\n",
      "              nan -7.04024479e-01  1.77094870e-01 -4.97145272e-01\n",
      "              nan             nan             nan -3.58052498e-01\n",
      "   3.28287027e-01             nan  0.00000000e+00  0.00000000e+00]\n",
      " [ 2.06047946e+01  6.27365833e+00 -4.29671573e+00             nan\n",
      "  -1.23435829e+00             nan -4.34107677e-01  1.65870114e+00\n",
      "              nan  3.18643048e-01  1.10096172e+00 -4.87733540e-01\n",
      "              nan             nan             nan -1.91077060e-01\n",
      "  -3.25768078e-02             nan  0.00000000e+00  0.00000000e+00]\n",
      " [ 2.14638462e+01  7.15017709e+00 -4.22112082e+00             nan\n",
      "  -1.52228155e+00             nan -1.85948834e+00 -6.71471934e-01\n",
      "              nan  1.18159490e-01 -1.01366584e+00  1.03050663e+00\n",
      "              nan             nan             nan -1.36137555e-01\n",
      "  -1.62236590e-01             nan  0.00000000e+00  0.00000000e+00]\n",
      " [ 1.25761359e+00  6.73939702e+00 -1.23209894e+00             nan\n",
      "   8.52379340e-01             nan -5.06099399e-01 -2.20021944e+00\n",
      "              nan  1.02715563e+00 -8.70957813e-01  9.20548486e-01\n",
      "              nan             nan             nan  4.30404500e-01\n",
      "   1.22458809e-01             nan  0.00000000e+00  0.00000000e+00]\n",
      " [-3.79547180e+00  1.75746932e+01 -1.56969775e+00             nan\n",
      "  -1.67529118e-01             nan -1.61351163e+00 -1.37315430e+00\n",
      "              nan -1.51999134e+00 -1.02082533e-02 -3.58013677e-01\n",
      "              nan             nan             nan -1.61085393e-01\n",
      "  -7.74344469e-02             nan  0.00000000e+00  0.00000000e+00]\n",
      " [-1.72802386e+01 -2.33448083e+00 -4.65026380e+00             nan\n",
      "   2.39329802e+00             nan  3.26995961e-01  3.77068945e-01\n",
      "              nan -1.64804466e+00 -3.25512009e-01  5.24776858e-01\n",
      "              nan             nan             nan -2.29862537e-01\n",
      "  -6.43999532e-02             nan  0.00000000e+00  0.00000000e+00]\n",
      " [ 1.23684955e+01 -2.82531477e+00 -1.70019194e+00             nan\n",
      "  -5.27742196e-02             nan  6.27905283e-01 -1.42840566e+00\n",
      "              nan -3.20235540e-01 -4.46554329e-01 -2.15157842e+00\n",
      "              nan             nan             nan -1.37152699e-01\n",
      "  -3.57947831e-01             nan  0.00000000e+00  0.00000000e+00]\n",
      " [ 8.51537327e+00 -3.38636516e-01 -2.46275110e+00             nan\n",
      "   8.66549432e-01             nan  2.90372175e-01 -6.24505487e-01\n",
      "              nan  1.68428287e+00 -5.78181417e-01 -4.67438539e-01\n",
      "              nan             nan             nan -1.14506684e+00\n",
      "   3.05685209e-01             nan  0.00000000e+00  0.00000000e+00]\n",
      " [ 8.04205849e+00 -6.69455208e+00 -3.69421502e+00             nan\n",
      "  -1.58260245e+00             nan -2.42501788e-01 -1.01324019e+00\n",
      "              nan  4.32742513e-01  3.35890232e-01 -3.39552556e-01\n",
      "              nan             nan             nan  1.05800647e+00\n",
      "   9.05044328e-02             nan  0.00000000e+00  0.00000000e+00]\n",
      " [ 1.55046359e+01  1.04279038e+01 -3.50889171e+00             nan\n",
      "   1.32048114e+00             nan  1.48731155e+00  1.37537807e+00\n",
      "              nan -5.82642064e-01 -8.27541294e-01  3.52596994e-01\n",
      "              nan             nan             nan -3.90913413e-03\n",
      "   1.31817707e-01             nan  0.00000000e+00  0.00000000e+00]\n",
      " [-1.80481528e+01  5.70902366e-01 -5.76031126e+00             nan\n",
      "  -1.63502146e+00             nan  1.41979737e+00  1.21038427e+00\n",
      "              nan  8.28974236e-01 -9.18666296e-01  1.72054894e-01\n",
      "              nan             nan             nan  5.71119545e-01\n",
      "  -2.64164024e-01             nan  0.00000000e+00  0.00000000e+00]\n",
      " [ 1.84878971e+01  2.68277552e+00 -3.04283895e+00             nan\n",
      "   1.24048381e+00             nan  8.39714318e-01 -4.46779166e-01\n",
      "              nan -2.27030006e-01  2.48966079e+00  7.74818621e-01\n",
      "              nan             nan             nan  6.60588777e-02\n",
      "  -7.83893785e-02             nan  0.00000000e+00  0.00000000e+00]\n",
      " [ 1.59399221e+01 -6.26868242e+00  3.91412668e-01             nan\n",
      "  -1.91778199e+00             nan  1.46294003e+00  1.49141199e-01\n",
      "              nan -8.37854614e-01 -3.30655909e-01 -1.03460959e-01\n",
      "              nan             nan             nan  2.89083745e-01\n",
      "   3.85524908e-01             nan  0.00000000e+00  0.00000000e+00]\n",
      " [ 1.36389064e+01 -2.17263917e+01 -4.33197733e+00             nan\n",
      "   2.76612958e+00             nan -4.69969635e-01 -3.34999461e-01\n",
      "              nan -7.46558783e-01 -7.39230297e-01 -1.20735321e-01\n",
      "              nan             nan             nan  2.01261431e-01\n",
      "   5.71207722e-02             nan  0.00000000e+00  0.00000000e+00]\n",
      " [ 3.77165910e-01 -1.30242715e+01 -1.66365289e+00             nan\n",
      "  -1.31183551e+00             nan  6.26131904e-01  2.02190849e-01\n",
      "              nan  5.77223783e-01  2.28235134e-03  8.61618809e-01\n",
      "              nan             nan             nan -8.00829570e-01\n",
      "  -3.15510524e-01             nan  0.00000000e+00  0.00000000e+00]\n",
      " [-1.01656976e+01  6.82408222e+00 -3.11604632e+00             nan\n",
      "   3.03798263e+00             nan -1.08133747e+00  1.17184796e+00\n",
      "              nan  1.52843213e+00  4.25272067e-01 -7.69192732e-01\n",
      "              nan             nan             nan  4.07926980e-01\n",
      "   3.10592407e-02             nan  0.00000000e+00  0.00000000e+00]\n",
      " [ 0.00000000e+00  0.00000000e+00  0.00000000e+00             nan\n",
      "   0.00000000e+00             nan  0.00000000e+00  0.00000000e+00\n",
      "              nan  0.00000000e+00  0.00000000e+00  0.00000000e+00\n",
      "              nan             nan             nan  0.00000000e+00\n",
      "   0.00000000e+00             nan  0.00000000e+00  0.00000000e+00]]\n"
     ]
    },
    {
     "name": "stderr",
     "output_type": "stream",
     "text": [
      "C:\\Apps\\Anaconda3\\lib\\site-packages\\ipykernel_launcher.py:5: RuntimeWarning: invalid value encountered in sqrt\n",
      "  \"\"\"\n"
     ]
    }
   ],
   "source": [
    "from read_helper_functions import read_ait_h_instance\n",
    "file_to_read = '18-4-l-2a'\n",
    "inst = read_ait_h_instance(file_to_read)\n",
    "nbc = inst.NbClients\n",
    "\n",
    "T = np.zeros((nbc + 2, nbc + 2))\n",
    "T[:nbc+1,:nbc+1] = inst.od\n",
    "\n",
    "# Complete last column and last row:\n",
    "T[nbc+1,:] = T[0,:] # Last row equal to first\n",
    "T[:, nbc+1] = T[:,0] # Last column equal to column\n",
    "\n",
    "new_points = coords_from_od(T)\n",
    "print(new_points)"
   ]
  },
  {
   "cell_type": "code",
   "execution_count": 14,
   "id": "669a48a5",
   "metadata": {},
   "outputs": [
    {
     "data": {
      "text/plain": [
       "[<matplotlib.lines.Line2D at 0x1bfc21359c8>]"
      ]
     },
     "execution_count": 14,
     "metadata": {},
     "output_type": "execute_result"
    },
    {
     "data": {
      "image/png": "[encoded data removed]",
      "text/plain": [
       "<Figure size 432x288 with 1 Axes>"
      ]
     },
     "metadata": {
      "needs_background": "light"
     },
     "output_type": "display_data"
    }
   ],
   "source": [
    "plt.plot(new_points[:,0], new_points[:,1], 'ro')"
   ]
  },
  {
   "cell_type": "code",
   "execution_count": 10,
   "id": "edd1875c",
   "metadata": {},
   "outputs": [],
   "source": [
    "new_od = get_od(new_points)"
   ]
  },
  {
   "cell_type": "code",
   "execution_count": 12,
   "id": "b1b75d0a",
   "metadata": {},
   "outputs": [
    {
     "data": {
      "text/plain": [
       "array([[nan, nan, nan, nan, nan, nan, nan, nan, nan, nan, nan, nan, nan,\n",
       "        nan, nan, nan, nan, nan, nan, nan],\n",
       "       [nan, nan, nan, nan, nan, nan, nan, nan, nan, nan, nan, nan, nan,\n",
       "        nan, nan, nan, nan, nan, nan, nan],\n",
       "       [nan, nan, nan, nan, nan, nan, nan, nan, nan, nan, nan, nan, nan,\n",
       "        nan, nan, nan, nan, nan, nan, nan],\n",
       "       [nan, nan, nan, nan, nan, nan, nan, nan, nan, nan, nan, nan, nan,\n",
       "        nan, nan, nan, nan, nan, nan, nan],\n",
       "       [nan, nan, nan, nan, nan, nan, nan, nan, nan, nan, nan, nan, nan,\n",
       "        nan, nan, nan, nan, nan, nan, nan],\n",
       "       [nan, nan, nan, nan, nan, nan, nan, nan, nan, nan, nan, nan, nan,\n",
       "        nan, nan, nan, nan, nan, nan, nan],\n",
       "       [nan, nan, nan, nan, nan, nan, nan, nan, nan, nan, nan, nan, nan,\n",
       "        nan, nan, nan, nan, nan, nan, nan],\n",
       "       [nan, nan, nan, nan, nan, nan, nan, nan, nan, nan, nan, nan, nan,\n",
       "        nan, nan, nan, nan, nan, nan, nan],\n",
       "       [nan, nan, nan, nan, nan, nan, nan, nan, nan, nan, nan, nan, nan,\n",
       "        nan, nan, nan, nan, nan, nan, nan],\n",
       "       [nan, nan, nan, nan, nan, nan, nan, nan, nan, nan, nan, nan, nan,\n",
       "        nan, nan, nan, nan, nan, nan, nan],\n",
       "       [nan, nan, nan, nan, nan, nan, nan, nan, nan, nan, nan, nan, nan,\n",
       "        nan, nan, nan, nan, nan, nan, nan],\n",
       "       [nan, nan, nan, nan, nan, nan, nan, nan, nan, nan, nan, nan, nan,\n",
       "        nan, nan, nan, nan, nan, nan, nan],\n",
       "       [nan, nan, nan, nan, nan, nan, nan, nan, nan, nan, nan, nan, nan,\n",
       "        nan, nan, nan, nan, nan, nan, nan],\n",
       "       [nan, nan, nan, nan, nan, nan, nan, nan, nan, nan, nan, nan, nan,\n",
       "        nan, nan, nan, nan, nan, nan, nan],\n",
       "       [nan, nan, nan, nan, nan, nan, nan, nan, nan, nan, nan, nan, nan,\n",
       "        nan, nan, nan, nan, nan, nan, nan],\n",
       "       [nan, nan, nan, nan, nan, nan, nan, nan, nan, nan, nan, nan, nan,\n",
       "        nan, nan, nan, nan, nan, nan, nan],\n",
       "       [nan, nan, nan, nan, nan, nan, nan, nan, nan, nan, nan, nan, nan,\n",
       "        nan, nan, nan, nan, nan, nan, nan],\n",
       "       [nan, nan, nan, nan, nan, nan, nan, nan, nan, nan, nan, nan, nan,\n",
       "        nan, nan, nan, nan, nan, nan, nan],\n",
       "       [nan, nan, nan, nan, nan, nan, nan, nan, nan, nan, nan, nan, nan,\n",
       "        nan, nan, nan, nan, nan, nan, nan],\n",
       "       [nan, nan, nan, nan, nan, nan, nan, nan, nan, nan, nan, nan, nan,\n",
       "        nan, nan, nan, nan, nan, nan, nan]])"
      ]
     },
     "execution_count": 12,
     "metadata": {},
     "output_type": "execute_result"
    }
   ],
   "source": [
    "np.round(T - new_od,4)"
   ]
  },
  {
   "cell_type": "code",
   "execution_count": null,
   "id": "1c29a28e",
   "metadata": {},
   "outputs": [],
   "source": []
  }
 ],
 "metadata": {
  "kernelspec": {
   "display_name": "Python 3",
   "language": "python",
   "name": "python3"
  },
  "language_info": {
   "codemirror_mode": {
    "name": "ipython",
    "version": 3
   },
   "file_extension": ".py",
   "mimetype": "text/x-python",
   "name": "python",
   "nbconvert_exporter": "python",
   "pygments_lexer": "ipython3",
   "version": "3.7.4"
  }
 },
 "nbformat": 4,
 "nbformat_minor": 5
}
